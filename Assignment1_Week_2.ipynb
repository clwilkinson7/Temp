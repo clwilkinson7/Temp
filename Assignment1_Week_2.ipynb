{
  "nbformat": 4,
  "nbformat_minor": 0,
  "metadata": {
    "colab": {
      "provenance": [],
      "mount_file_id": "106tXC6Mr5wHpZtxlYteNfzxCIDgIaoto",
      "authorship_tag": "ABX9TyN4iiNeeMoS33dnNT2TteUP",
      "include_colab_link": true
    },
    "kernelspec": {
      "name": "python3",
      "display_name": "Python 3"
    },
    "language_info": {
      "name": "python"
    }
  },
  "cells": [
    {
      "cell_type": "markdown",
      "metadata": {
        "id": "view-in-github",
        "colab_type": "text"
      },
      "source": [
        "<a href=\"https://colab.research.google.com/github/clwilkinson7/Temp/blob/main/Assignment1_Week_2.ipynb\" target=\"_parent\"><img src=\"https://colab.research.google.com/assets/colab-badge.svg\" alt=\"Open In Colab\"/></a>"
      ]
    },
    {
      "cell_type": "markdown",
      "source": [
        "# Assignment 1\n",
        "\n",
        "---\n",
        "\n",
        "\n",
        "Week beginning 30/09/2024"
      ],
      "metadata": {
        "id": "UgvVDPJjIWh-"
      }
    },
    {
      "cell_type": "markdown",
      "source": [
        "Imports\n"
      ],
      "metadata": {
        "id": "tXChYIPiJcJ0"
      }
    },
    {
      "cell_type": "code",
      "source": [
        "from google.colab import files\n",
        "\n",
        "uploaded = files.upload()\n",
        "\n",
        "import numpy as np\n",
        "import matplotlib.pyplot as plt\n",
        "from sklearn.linear_model import LinearRegression\n",
        "import csv\n",
        "from sklearn.preprocessing import PolynomialFeatures"
      ],
      "metadata": {
        "colab": {
          "base_uri": "https://localhost:8080/",
          "height": 73
        },
        "id": "31BSvMv5Jf3z",
        "outputId": "c6f8169a-4ef8-4a91-97bf-59f4a07568f2"
      },
      "execution_count": 4,
      "outputs": [
        {
          "output_type": "display_data",
          "data": {
            "text/plain": [
              "<IPython.core.display.HTML object>"
            ],
            "text/html": [
              "\n",
              "     <input type=\"file\" id=\"files-13b6de0f-ed60-4897-b19c-d59ab9f6c181\" name=\"files[]\" multiple disabled\n",
              "        style=\"border:none\" />\n",
              "     <output id=\"result-13b6de0f-ed60-4897-b19c-d59ab9f6c181\">\n",
              "      Upload widget is only available when the cell has been executed in the\n",
              "      current browser session. Please rerun this cell to enable.\n",
              "      </output>\n",
              "      <script>// Copyright 2017 Google LLC\n",
              "//\n",
              "// Licensed under the Apache License, Version 2.0 (the \"License\");\n",
              "// you may not use this file except in compliance with the License.\n",
              "// You may obtain a copy of the License at\n",
              "//\n",
              "//      http://www.apache.org/licenses/LICENSE-2.0\n",
              "//\n",
              "// Unless required by applicable law or agreed to in writing, software\n",
              "// distributed under the License is distributed on an \"AS IS\" BASIS,\n",
              "// WITHOUT WARRANTIES OR CONDITIONS OF ANY KIND, either express or implied.\n",
              "// See the License for the specific language governing permissions and\n",
              "// limitations under the License.\n",
              "\n",
              "/**\n",
              " * @fileoverview Helpers for google.colab Python module.\n",
              " */\n",
              "(function(scope) {\n",
              "function span(text, styleAttributes = {}) {\n",
              "  const element = document.createElement('span');\n",
              "  element.textContent = text;\n",
              "  for (const key of Object.keys(styleAttributes)) {\n",
              "    element.style[key] = styleAttributes[key];\n",
              "  }\n",
              "  return element;\n",
              "}\n",
              "\n",
              "// Max number of bytes which will be uploaded at a time.\n",
              "const MAX_PAYLOAD_SIZE = 100 * 1024;\n",
              "\n",
              "function _uploadFiles(inputId, outputId) {\n",
              "  const steps = uploadFilesStep(inputId, outputId);\n",
              "  const outputElement = document.getElementById(outputId);\n",
              "  // Cache steps on the outputElement to make it available for the next call\n",
              "  // to uploadFilesContinue from Python.\n",
              "  outputElement.steps = steps;\n",
              "\n",
              "  return _uploadFilesContinue(outputId);\n",
              "}\n",
              "\n",
              "// This is roughly an async generator (not supported in the browser yet),\n",
              "// where there are multiple asynchronous steps and the Python side is going\n",
              "// to poll for completion of each step.\n",
              "// This uses a Promise to block the python side on completion of each step,\n",
              "// then passes the result of the previous step as the input to the next step.\n",
              "function _uploadFilesContinue(outputId) {\n",
              "  const outputElement = document.getElementById(outputId);\n",
              "  const steps = outputElement.steps;\n",
              "\n",
              "  const next = steps.next(outputElement.lastPromiseValue);\n",
              "  return Promise.resolve(next.value.promise).then((value) => {\n",
              "    // Cache the last promise value to make it available to the next\n",
              "    // step of the generator.\n",
              "    outputElement.lastPromiseValue = value;\n",
              "    return next.value.response;\n",
              "  });\n",
              "}\n",
              "\n",
              "/**\n",
              " * Generator function which is called between each async step of the upload\n",
              " * process.\n",
              " * @param {string} inputId Element ID of the input file picker element.\n",
              " * @param {string} outputId Element ID of the output display.\n",
              " * @return {!Iterable<!Object>} Iterable of next steps.\n",
              " */\n",
              "function* uploadFilesStep(inputId, outputId) {\n",
              "  const inputElement = document.getElementById(inputId);\n",
              "  inputElement.disabled = false;\n",
              "\n",
              "  const outputElement = document.getElementById(outputId);\n",
              "  outputElement.innerHTML = '';\n",
              "\n",
              "  const pickedPromise = new Promise((resolve) => {\n",
              "    inputElement.addEventListener('change', (e) => {\n",
              "      resolve(e.target.files);\n",
              "    });\n",
              "  });\n",
              "\n",
              "  const cancel = document.createElement('button');\n",
              "  inputElement.parentElement.appendChild(cancel);\n",
              "  cancel.textContent = 'Cancel upload';\n",
              "  const cancelPromise = new Promise((resolve) => {\n",
              "    cancel.onclick = () => {\n",
              "      resolve(null);\n",
              "    };\n",
              "  });\n",
              "\n",
              "  // Wait for the user to pick the files.\n",
              "  const files = yield {\n",
              "    promise: Promise.race([pickedPromise, cancelPromise]),\n",
              "    response: {\n",
              "      action: 'starting',\n",
              "    }\n",
              "  };\n",
              "\n",
              "  cancel.remove();\n",
              "\n",
              "  // Disable the input element since further picks are not allowed.\n",
              "  inputElement.disabled = true;\n",
              "\n",
              "  if (!files) {\n",
              "    return {\n",
              "      response: {\n",
              "        action: 'complete',\n",
              "      }\n",
              "    };\n",
              "  }\n",
              "\n",
              "  for (const file of files) {\n",
              "    const li = document.createElement('li');\n",
              "    li.append(span(file.name, {fontWeight: 'bold'}));\n",
              "    li.append(span(\n",
              "        `(${file.type || 'n/a'}) - ${file.size} bytes, ` +\n",
              "        `last modified: ${\n",
              "            file.lastModifiedDate ? file.lastModifiedDate.toLocaleDateString() :\n",
              "                                    'n/a'} - `));\n",
              "    const percent = span('0% done');\n",
              "    li.appendChild(percent);\n",
              "\n",
              "    outputElement.appendChild(li);\n",
              "\n",
              "    const fileDataPromise = new Promise((resolve) => {\n",
              "      const reader = new FileReader();\n",
              "      reader.onload = (e) => {\n",
              "        resolve(e.target.result);\n",
              "      };\n",
              "      reader.readAsArrayBuffer(file);\n",
              "    });\n",
              "    // Wait for the data to be ready.\n",
              "    let fileData = yield {\n",
              "      promise: fileDataPromise,\n",
              "      response: {\n",
              "        action: 'continue',\n",
              "      }\n",
              "    };\n",
              "\n",
              "    // Use a chunked sending to avoid message size limits. See b/62115660.\n",
              "    let position = 0;\n",
              "    do {\n",
              "      const length = Math.min(fileData.byteLength - position, MAX_PAYLOAD_SIZE);\n",
              "      const chunk = new Uint8Array(fileData, position, length);\n",
              "      position += length;\n",
              "\n",
              "      const base64 = btoa(String.fromCharCode.apply(null, chunk));\n",
              "      yield {\n",
              "        response: {\n",
              "          action: 'append',\n",
              "          file: file.name,\n",
              "          data: base64,\n",
              "        },\n",
              "      };\n",
              "\n",
              "      let percentDone = fileData.byteLength === 0 ?\n",
              "          100 :\n",
              "          Math.round((position / fileData.byteLength) * 100);\n",
              "      percent.textContent = `${percentDone}% done`;\n",
              "\n",
              "    } while (position < fileData.byteLength);\n",
              "  }\n",
              "\n",
              "  // All done.\n",
              "  yield {\n",
              "    response: {\n",
              "      action: 'complete',\n",
              "    }\n",
              "  };\n",
              "}\n",
              "\n",
              "scope.google = scope.google || {};\n",
              "scope.google.colab = scope.google.colab || {};\n",
              "scope.google.colab._files = {\n",
              "  _uploadFiles,\n",
              "  _uploadFilesContinue,\n",
              "};\n",
              "})(self);\n",
              "</script> "
            ]
          },
          "metadata": {}
        },
        {
          "output_type": "stream",
          "name": "stdout",
          "text": [
            "Saving housePrice.csv to housePrice.csv\n"
          ]
        }
      ]
    },
    {
      "cell_type": "markdown",
      "source": [
        "Opening CSV file\n",
        "\n",
        "\n",
        "> Using basic file opening methods\n",
        "\n",
        "\n",
        "\n",
        "Creating lists to store the data in\n",
        "\n",
        "\n",
        "> Manually creating a list for each column in the CSV file\n",
        "\n",
        "\n",
        "\n",
        "\n"
      ],
      "metadata": {
        "id": "Bh0REJjmJi0L"
      }
    },
    {
      "cell_type": "code",
      "source": [
        "houseprice = open(\"housePrice.csv\", \"r\")\n",
        "\n",
        "file = csv.DictReader(houseprice)\n",
        "\n",
        "price = []\n",
        "price2 = []\n",
        "sqrFt = []\n",
        "longitude = []\n",
        "latitude = []\n",
        "lotSize = []\n",
        "beds = []\n",
        "bathrooms = []\n",
        "yearBuilt = []\n",
        "pricePerSqrFt = []\n",
        "yearLastSold = []\n",
        "priceLastSold = []\n",
        "address = []\n",
        "city = []\n",
        "state = []\n",
        "zipcode = []\n",
        "fullAddress = []"
      ],
      "metadata": {
        "id": "ifIQT0hHKZ8p"
      },
      "execution_count": 5,
      "outputs": []
    },
    {
      "cell_type": "markdown",
      "source": [
        "Using a for loop to iterate through all columns in the CSV file I appended every item in each colum to the assotiated list, whilst adding values of 0 in place of errors"
      ],
      "metadata": {
        "id": "y5Ld3JQwKdKe"
      }
    },
    {
      "cell_type": "code",
      "source": [
        "count = 0\n",
        "for col in file:\n",
        "    price2.append(col[\"Price\"])\n",
        "    if \"$\" in col[\"Price\"]:\n",
        "        if \"/mo\" not in col[\"Price\"]:\n",
        "            price.append(col[\"Price\"])\n",
        "        else:\n",
        "            price.append(\"0$,+\")\n",
        "    else:\n",
        "        price.append(\"0$,+\")\n",
        "\n",
        "    #sqrFt.append(col[\"Sqr Ft\"])\n",
        "    #longitude.append(col[\"Longitude\"])\n",
        "    #latitude.append(col[\"Latitude\"])\n",
        "\n",
        "    if col[\"Beds\"] != \"\":\n",
        "        beds.append((float(col[\"Beds\"])))\n",
        "    else:\n",
        "        beds.append(0)\n",
        "\n",
        "    if col[\"Bath\"] != \"\":\n",
        "        bathrooms.append(float((col[\"Bath\"])))\n",
        "    else:\n",
        "        bathrooms.append(0)\n",
        "    count+= 1\n",
        "    #yearBuilt.append(col[\"Year Built\"])\n",
        "    #pricePerSqrFt.append(col[\"Price Sqr Ft\"])\n",
        "    #yearLastSold.append(col[\"Last Sold Year\"])\n",
        "    #priceLastSold.append(col[\"Last Sold For\"])\n",
        "    #address.append(col[\"Address\"])\n",
        "    #city.append(col[\"City\"])\n",
        "    #state.append(col[\"State\"])\n",
        "    #zipcode.append(col[\"Zipcode\"])\n",
        "    #fullAddress.append(col[\"Address Full\"])"
      ],
      "metadata": {
        "id": "AnpsRIEfKzSN"
      },
      "execution_count": null,
      "outputs": []
    },
    {
      "cell_type": "markdown",
      "source": [
        "This for loop is to manage all the uncessary data in the price list"
      ],
      "metadata": {
        "id": "mlWNCwPlK1Or"
      }
    },
    {
      "cell_type": "code",
      "source": [
        "issues = [\"$\", \",\", \"+\"]\n",
        "\n",
        "count = 0\n",
        "for value in price:\n",
        "    for issue in issues:\n",
        "        value = value.replace(issue, \"\")\n",
        "    price[count] = float(value)\n",
        "    count += 1"
      ],
      "metadata": {
        "id": "I-0VHd5HK3fU"
      },
      "execution_count": null,
      "outputs": []
    },
    {
      "cell_type": "markdown",
      "source": [
        "For plotting the data I set the y-axis to the highest value in the price list and for the x-axis I placed the highest between"
      ],
      "metadata": {
        "id": "ks3vveLZLAlX"
      }
    },
    {
      "cell_type": "code",
      "source": [
        "yAxis = max(price)\n",
        "\n",
        "if max(bathrooms) > max(beds):\n",
        "    xAxis = max(bathrooms)\n",
        "else:\n",
        "    xAxis = max(beds)"
      ],
      "metadata": {
        "id": "lzVu_ZY1LAN1"
      },
      "execution_count": null,
      "outputs": []
    },
    {
      "cell_type": "markdown",
      "source": [
        "The generate the plot points"
      ],
      "metadata": {
        "id": "EBedWYzELw9d"
      }
    },
    {
      "cell_type": "code",
      "source": [
        "m2 = len(bathrooms)\n",
        "X2 = [[]]\n",
        "y2 = [[]]\n",
        "for i in range(m2):\n",
        "    X2[0].append(bathrooms[i])\n",
        "    y2[0].append(float(X2[0][i]) + float(price[i]))"
      ],
      "metadata": {
        "id": "evrtjj6HLxcm"
      },
      "execution_count": null,
      "outputs": []
    },
    {
      "cell_type": "markdown",
      "source": [
        "For plotting the data"
      ],
      "metadata": {
        "id": "jFLU3v3_LzYU"
      }
    },
    {
      "cell_type": "code",
      "execution_count": null,
      "metadata": {
        "colab": {
          "base_uri": "https://localhost:8080/",
          "height": 788
        },
        "id": "EMYKYsehHju0",
        "outputId": "61b30ff2-3f07-4dbf-98bf-b8771258ac70"
      },
      "outputs": [
        {
          "output_type": "display_data",
          "data": {
            "text/plain": [
              "<Figure size 1600x900 with 1 Axes>"
            ],
            "image/png": "[encoded data removed]"
          },
          "metadata": {}
        }
      ],
      "source": [
        "plt.figure(figsize=(16, 9))\n",
        "plt.plot(X2, y2, \"b.\")\n",
        "plt.xlabel(\"Number-Of-Bathrooms\")\n",
        "plt.ylabel(\"Price\", rotation=90)\n",
        "plt.axis([0, xAxis, 0, yAxis])\n",
        "plt.grid()\n",
        "plt.show()"
      ]
    }
  ]
}