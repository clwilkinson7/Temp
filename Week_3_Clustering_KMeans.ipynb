{
  "nbformat": 4,
  "nbformat_minor": 0,
  "metadata": {
    "colab": {
      "provenance": [],
      "authorship_tag": "ABX9TyM1wy6jNYpJcSt3QivEUPOf",
      "include_colab_link": true
    },
    "kernelspec": {
      "name": "python3",
      "display_name": "Python 3"
    },
    "language_info": {
      "name": "python"
    }
  },
  "cells": [
    {
      "cell_type": "markdown",
      "metadata": {
        "id": "view-in-github",
        "colab_type": "text"
      },
      "source": [
        "<a href=\"https://colab.research.google.com/github/clwilkinson7/Temp/blob/main/Week_3_Clustering_KMeans.ipynb\" target=\"_parent\"><img src=\"https://colab.research.google.com/assets/colab-badge.svg\" alt=\"Open In Colab\"/></a>"
      ]
    },
    {
      "cell_type": "markdown",
      "source": [
        "# Week 3 - KMeans Clustering\n",
        "\n",
        "---\n",
        "\n",
        "\n",
        "Week beginning 07/10/2024"
      ],
      "metadata": {
        "id": "CdkEOEvdwmhx"
      }
    },
    {
      "cell_type": "markdown",
      "source": [
        "Imports"
      ],
      "metadata": {
        "id": "fxAnFxwzxbOm"
      }
    },
    {
      "cell_type": "code",
      "source": [
        "from google.colab import files\n",
        "\n",
        "from sklearn.cluster import KMeans\n",
        "import numpy as np\n",
        "import matplotlib.pyplot as plt\n",
        "import csv\n",
        "import random\n",
        "from random import randint"
      ],
      "metadata": {
        "id": "--sRX3DlxdvW"
      },
      "execution_count": 2,
      "outputs": []
    },
    {
      "cell_type": "markdown",
      "source": [
        "Opening CSV file\n",
        "\n",
        "\n",
        "> Using basic file opening methods\n",
        "\n",
        "\n",
        "\n",
        "Creating lists to store the data in\n",
        "\n",
        "\n",
        "> Manually creating a list for relevant columns in the CSV file\n"
      ],
      "metadata": {
        "id": "Rr21_TcQxhZR"
      }
    },
    {
      "cell_type": "code",
      "source": [
        "files.upload()\n",
        "houseprice = open(\"housePrice.csv\", \"r\")\n",
        "\n",
        "file = csv.DictReader(houseprice)\n",
        "\n",
        "price = []\n",
        "beds = []\n",
        "bathrooms = []"
      ],
      "metadata": {
        "colab": {
          "base_uri": "https://localhost:8080/",
          "height": 73
        },
        "id": "CBtqDrV-xg7G",
        "outputId": "c4e9037e-80a9-4297-880c-77e88c79bab2"
      },
      "execution_count": 3,
      "outputs": [
        {
          "output_type": "display_data",
          "data": {
            "text/plain": [
              "<IPython.core.display.HTML object>"
            ],
            "text/html": [
              "\n",
              "     <input type=\"file\" id=\"files-5a7ca7d0-9d28-404c-8a65-00a63d554e1d\" name=\"files[]\" multiple disabled\n",
              "        style=\"border:none\" />\n",
              "     <output id=\"result-5a7ca7d0-9d28-404c-8a65-00a63d554e1d\">\n",
              "      Upload widget is only available when the cell has been executed in the\n",
              "      current browser session. Please rerun this cell to enable.\n",
              "      </output>\n",
              "      <script>// Copyright 2017 Google LLC\n",
              "//\n",
              "// Licensed under the Apache License, Version 2.0 (the \"License\");\n",
              "// you may not use this file except in compliance with the License.\n",
              "// You may obtain a copy of the License at\n",
              "//\n",
              "//      http://www.apache.org/licenses/LICENSE-2.0\n",
              "//\n",
              "// Unless required by applicable law or agreed to in writing, software\n",
              "// distributed under the License is distributed on an \"AS IS\" BASIS,\n",
              "// WITHOUT WARRANTIES OR CONDITIONS OF ANY KIND, either express or implied.\n",
              "// See the License for the specific language governing permissions and\n",
              "// limitations under the License.\n",
              "\n",
              "/**\n",
              " * @fileoverview Helpers for google.colab Python module.\n",
              " */\n",
              "(function(scope) {\n",
              "function span(text, styleAttributes = {}) {\n",
              "  const element = document.createElement('span');\n",
              "  element.textContent = text;\n",
              "  for (const key of Object.keys(styleAttributes)) {\n",
              "    element.style[key] = styleAttributes[key];\n",
              "  }\n",
              "  return element;\n",
              "}\n",
              "\n",
              "// Max number of bytes which will be uploaded at a time.\n",
              "const MAX_PAYLOAD_SIZE = 100 * 1024;\n",
              "\n",
              "function _uploadFiles(inputId, outputId) {\n",
              "  const steps = uploadFilesStep(inputId, outputId);\n",
              "  const outputElement = document.getElementById(outputId);\n",
              "  // Cache steps on the outputElement to make it available for the next call\n",
              "  // to uploadFilesContinue from Python.\n",
              "  outputElement.steps = steps;\n",
              "\n",
              "  return _uploadFilesContinue(outputId);\n",
              "}\n",
              "\n",
              "// This is roughly an async generator (not supported in the browser yet),\n",
              "// where there are multiple asynchronous steps and the Python side is going\n",
              "// to poll for completion of each step.\n",
              "// This uses a Promise to block the python side on completion of each step,\n",
              "// then passes the result of the previous step as the input to the next step.\n",
              "function _uploadFilesContinue(outputId) {\n",
              "  const outputElement = document.getElementById(outputId);\n",
              "  const steps = outputElement.steps;\n",
              "\n",
              "  const next = steps.next(outputElement.lastPromiseValue);\n",
              "  return Promise.resolve(next.value.promise).then((value) => {\n",
              "    // Cache the last promise value to make it available to the next\n",
              "    // step of the generator.\n",
              "    outputElement.lastPromiseValue = value;\n",
              "    return next.value.response;\n",
              "  });\n",
              "}\n",
              "\n",
              "/**\n",
              " * Generator function which is called between each async step of the upload\n",
              " * process.\n",
              " * @param {string} inputId Element ID of the input file picker element.\n",
              " * @param {string} outputId Element ID of the output display.\n",
              " * @return {!Iterable<!Object>} Iterable of next steps.\n",
              " */\n",
              "function* uploadFilesStep(inputId, outputId) {\n",
              "  const inputElement = document.getElementById(inputId);\n",
              "  inputElement.disabled = false;\n",
              "\n",
              "  const outputElement = document.getElementById(outputId);\n",
              "  outputElement.innerHTML = '';\n",
              "\n",
              "  const pickedPromise = new Promise((resolve) => {\n",
              "    inputElement.addEventListener('change', (e) => {\n",
              "      resolve(e.target.files);\n",
              "    });\n",
              "  });\n",
              "\n",
              "  const cancel = document.createElement('button');\n",
              "  inputElement.parentElement.appendChild(cancel);\n",
              "  cancel.textContent = 'Cancel upload';\n",
              "  const cancelPromise = new Promise((resolve) => {\n",
              "    cancel.onclick = () => {\n",
              "      resolve(null);\n",
              "    };\n",
              "  });\n",
              "\n",
              "  // Wait for the user to pick the files.\n",
              "  const files = yield {\n",
              "    promise: Promise.race([pickedPromise, cancelPromise]),\n",
              "    response: {\n",
              "      action: 'starting',\n",
              "    }\n",
              "  };\n",
              "\n",
              "  cancel.remove();\n",
              "\n",
              "  // Disable the input element since further picks are not allowed.\n",
              "  inputElement.disabled = true;\n",
              "\n",
              "  if (!files) {\n",
              "    return {\n",
              "      response: {\n",
              "        action: 'complete',\n",
              "      }\n",
              "    };\n",
              "  }\n",
              "\n",
              "  for (const file of files) {\n",
              "    const li = document.createElement('li');\n",
              "    li.append(span(file.name, {fontWeight: 'bold'}));\n",
              "    li.append(span(\n",
              "        `(${file.type || 'n/a'}) - ${file.size} bytes, ` +\n",
              "        `last modified: ${\n",
              "            file.lastModifiedDate ? file.lastModifiedDate.toLocaleDateString() :\n",
              "                                    'n/a'} - `));\n",
              "    const percent = span('0% done');\n",
              "    li.appendChild(percent);\n",
              "\n",
              "    outputElement.appendChild(li);\n",
              "\n",
              "    const fileDataPromise = new Promise((resolve) => {\n",
              "      const reader = new FileReader();\n",
              "      reader.onload = (e) => {\n",
              "        resolve(e.target.result);\n",
              "      };\n",
              "      reader.readAsArrayBuffer(file);\n",
              "    });\n",
              "    // Wait for the data to be ready.\n",
              "    let fileData = yield {\n",
              "      promise: fileDataPromise,\n",
              "      response: {\n",
              "        action: 'continue',\n",
              "      }\n",
              "    };\n",
              "\n",
              "    // Use a chunked sending to avoid message size limits. See b/62115660.\n",
              "    let position = 0;\n",
              "    do {\n",
              "      const length = Math.min(fileData.byteLength - position, MAX_PAYLOAD_SIZE);\n",
              "      const chunk = new Uint8Array(fileData, position, length);\n",
              "      position += length;\n",
              "\n",
              "      const base64 = btoa(String.fromCharCode.apply(null, chunk));\n",
              "      yield {\n",
              "        response: {\n",
              "          action: 'append',\n",
              "          file: file.name,\n",
              "          data: base64,\n",
              "        },\n",
              "      };\n",
              "\n",
              "      let percentDone = fileData.byteLength === 0 ?\n",
              "          100 :\n",
              "          Math.round((position / fileData.byteLength) * 100);\n",
              "      percent.textContent = `${percentDone}% done`;\n",
              "\n",
              "    } while (position < fileData.byteLength);\n",
              "  }\n",
              "\n",
              "  // All done.\n",
              "  yield {\n",
              "    response: {\n",
              "      action: 'complete',\n",
              "    }\n",
              "  };\n",
              "}\n",
              "\n",
              "scope.google = scope.google || {};\n",
              "scope.google.colab = scope.google.colab || {};\n",
              "scope.google.colab._files = {\n",
              "  _uploadFiles,\n",
              "  _uploadFilesContinue,\n",
              "};\n",
              "})(self);\n",
              "</script> "
            ]
          },
          "metadata": {}
        },
        {
          "output_type": "stream",
          "name": "stdout",
          "text": [
            "Saving housePrice.csv to housePrice.csv\n"
          ]
        }
      ]
    },
    {
      "cell_type": "markdown",
      "source": [
        "Using a for loop to iterate through all relevant columns in the CSV file I appended every item in each column to the assotiated  list, whilst adding values of 0 in place of empty data"
      ],
      "metadata": {
        "id": "mI8BQqGcxvPD"
      }
    },
    {
      "cell_type": "code",
      "source": [
        "count = 0\n",
        "for col in file:\n",
        "    if \"$\" in col[\"Price\"]:\n",
        "        if \"/mo\" not in col[\"Price\"]:\n",
        "            price.append(col[\"Price\"])\n",
        "        else:\n",
        "            price.append(\"0$,+\")\n",
        "    else:\n",
        "        price.append(\"0$,+\")\n",
        "\n",
        "    if col[\"Beds\"] != \"\":\n",
        "        beds.append((float(col[\"Beds\"])))\n",
        "    else:\n",
        "        beds.append(0)\n",
        "\n",
        "    if col[\"Bath\"] != \"\":\n",
        "        bathrooms.append(float((col[\"Bath\"])))\n",
        "    else:\n",
        "        bathrooms.append(0)\n",
        "    count+= 1"
      ],
      "metadata": {
        "id": "-CIiiA8myO9q"
      },
      "execution_count": 4,
      "outputs": []
    },
    {
      "cell_type": "markdown",
      "source": [
        "This for loop is to manage all the uncessary data in the price list"
      ],
      "metadata": {
        "id": "lq_cPekZyNve"
      }
    },
    {
      "cell_type": "code",
      "source": [
        "issues = [\"$\", \",\", \"+\"]\n",
        "\n",
        "count = 0\n",
        "for value in price:\n",
        "    for issue in issues:\n",
        "        value = value.replace(issue, \"\")\n",
        "    price[count] = float(value)\n",
        "    count += 1"
      ],
      "metadata": {
        "id": "VO1UXpcpyYNQ"
      },
      "execution_count": 5,
      "outputs": []
    },
    {
      "cell_type": "markdown",
      "source": [
        "For plotting the data I set the y-axis to the highest value in the beds list and for the x-axis I placed the highest in the bathroom list"
      ],
      "metadata": {
        "id": "muXScOgpyaoB"
      }
    },
    {
      "cell_type": "code",
      "source": [
        "xAxis = max(bathrooms)\n",
        "yAxis = max(beds)"
      ],
      "metadata": {
        "id": "pKsthRgEyaVB"
      },
      "execution_count": 6,
      "outputs": []
    },
    {
      "cell_type": "markdown",
      "source": [
        "The generate the plot points"
      ],
      "metadata": {
        "id": "LKBsoppLzHuk"
      }
    },
    {
      "cell_type": "code",
      "source": [
        "data = list(zip(beds, bathrooms))"
      ],
      "metadata": {
        "id": "_gF2wD5Iy1wQ"
      },
      "execution_count": 7,
      "outputs": []
    },
    {
      "cell_type": "markdown",
      "source": [
        "To generate a diagram to visulise the inertia of the data to know how many clusters are needed"
      ],
      "metadata": {
        "id": "jT0Srdgly734"
      }
    },
    {
      "cell_type": "code",
      "source": [
        "inertias = []\n",
        "\n",
        "for i in range(1, 100):\n",
        "    kmeans = KMeans(n_clusters=i)\n",
        "    kmeans.fit(data)\n",
        "    inertias.append(kmeans.inertia_)\n",
        "\n",
        "plt.plot(range(1, 100), inertias, marker='o')\n",
        "plt.title('Elbow method')\n",
        "plt.xlabel('Number of clusters')\n",
        "plt.ylabel('Inertia')\n",
        "plt.show()"
      ],
      "metadata": {
        "colab": {
          "base_uri": "https://localhost:8080/",
          "height": 472
        },
        "id": "QlagjJgBzVzj",
        "outputId": "984fc981-71b9-4927-f7e9-d292cba7968c"
      },
      "execution_count": 8,
      "outputs": [
        {
          "output_type": "display_data",
          "data": {
            "text/plain": [
              "<Figure size 640x480 with 1 Axes>"
            ],
            "image/png": "[encoded data removed]"
          },
          "metadata": {}
        }
      ]
    },
    {
      "cell_type": "markdown",
      "source": [
        "To plot the data with a different colour for each cluster"
      ],
      "metadata": {
        "id": "S0SCkx4Oza_3"
      }
    },
    {
      "cell_type": "code",
      "execution_count": 9,
      "metadata": {
        "colab": {
          "base_uri": "https://localhost:8080/",
          "height": 773
        },
        "id": "W-arLwI9wlGC",
        "outputId": "6be0759d-2872-4ae8-f8e4-5cc07bd84495"
      },
      "outputs": [
        {
          "output_type": "display_data",
          "data": {
            "text/plain": [
              "<Figure size 1600x900 with 1 Axes>"
            ],
            "image/png": "[encoded data removed]"
          },
          "metadata": {}
        }
      ],
      "source": [
        "kmeans = KMeans(n_clusters=20)\n",
        "kmeans.fit(data)\n",
        "\n",
        "numberOfColours = 20\n",
        "\n",
        "colours = [\"#\"+''.join([random.choice('0123456789ABCDEF') for j in range(6)]) for i in range(numberOfColours)]\n",
        "\n",
        "\n",
        "plt.figure(figsize=(16, 9))\n",
        "count = 0\n",
        "for X,Y in data:\n",
        "    plt.plot(X, Y, c=colours[kmeans.labels_[count]], marker=\"o\")\n",
        "    count += 1\n",
        "plt.xlabel(\"Number-Of-Bathrooms\")\n",
        "plt.ylabel(\"Number-Of-Bedrooms\", rotation=90)\n",
        "plt.axis([0, xAxis, 0, yAxis])\n",
        "plt.grid()\n",
        "plt.show()"
      ]
    }
  ]
}